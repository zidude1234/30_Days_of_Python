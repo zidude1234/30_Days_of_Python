{
 "cells": [
  {
   "cell_type": "code",
   "execution_count": 1,
   "id": "ee9d1038",
   "metadata": {},
   "outputs": [],
   "source": [
    "import numpy as np\n"
   ]
  },
  {
   "cell_type": "code",
   "execution_count": 2,
   "id": "ea1ee680",
   "metadata": {},
   "outputs": [
    {
     "name": "stdout",
     "output_type": "stream",
     "text": [
      "numpy: 1.20.3\n"
     ]
    }
   ],
   "source": [
    " print('numpy:', np.__version__)"
   ]
  },
  {
   "cell_type": "code",
   "execution_count": 3,
   "id": "ecb43064",
   "metadata": {},
   "outputs": [
    {
     "name": "stdout",
     "output_type": "stream",
     "text": [
      "['ALLOW_THREADS', 'AxisError', 'BUFSIZE', 'Bytes0', 'CLIP', 'ComplexWarning', 'DataSource', 'Datetime64', 'ERR_CALL', 'ERR_DEFAULT', 'ERR_IGNORE', 'ERR_LOG', 'ERR_PRINT', 'ERR_RAISE', 'ERR_WARN', 'FLOATING_POINT_SUPPORT', 'FPE_DIVIDEBYZERO', 'FPE_INVALID', 'FPE_OVERFLOW', 'FPE_UNDERFLOW', 'False_', 'Inf', 'Infinity', 'MAXDIMS', 'MAY_SHARE_BOUNDS', 'MAY_SHARE_EXACT', 'MachAr', 'ModuleDeprecationWarning', 'NAN', 'NINF', 'NZERO', 'NaN', 'PINF', 'PZERO', 'RAISE', 'RankWarning', 'SHIFT_DIVIDEBYZERO', 'SHIFT_INVALID', 'SHIFT_OVERFLOW', 'SHIFT_UNDERFLOW', 'ScalarType', 'Str0', 'Tester', 'TooHardError', 'True_', 'UFUNC_BUFSIZE_DEFAULT', 'UFUNC_PYVALS_NAME', 'Uint64', 'VisibleDeprecationWarning', 'WRAP', '_NoValue', '_UFUNC_API', '__NUMPY_SETUP__', '__all__', '__builtins__', '__cached__', '__config__', '__deprecated_attrs__', '__dir__', '__doc__', '__expired_functions__', '__file__', '__getattr__', '__git_revision__', '__loader__', '__mkl_version__', '__name__', '__package__', '__path__', '__spec__', '__version__', '_add_newdoc_ufunc', '_distributor_init', '_financial_names', '_globals', '_mat', '_pytesttester', 'abs', 'absolute', 'add', 'add_docstring', 'add_newdoc', 'add_newdoc_ufunc', 'alen', 'all', 'allclose', 'alltrue', 'amax', 'amin', 'angle', 'any', 'append', 'apply_along_axis', 'apply_over_axes', 'arange', 'arccos', 'arccosh', 'arcsin', 'arcsinh', 'arctan', 'arctan2', 'arctanh', 'argmax', 'argmin', 'argpartition', 'argsort', 'argwhere', 'around', 'array', 'array2string', 'array_equal', 'array_equiv', 'array_repr', 'array_split', 'array_str', 'asanyarray', 'asarray', 'asarray_chkfinite', 'ascontiguousarray', 'asfarray', 'asfortranarray', 'asmatrix', 'asscalar', 'atleast_1d', 'atleast_2d', 'atleast_3d', 'average', 'bartlett', 'base_repr', 'binary_repr', 'bincount', 'bitwise_and', 'bitwise_not', 'bitwise_or', 'bitwise_xor', 'blackman', 'block', 'bmat', 'bool8', 'bool_', 'broadcast', 'broadcast_arrays', 'broadcast_shapes', 'broadcast_to', 'busday_count', 'busday_offset', 'busdaycalendar', 'byte', 'byte_bounds', 'bytes0', 'bytes_', 'c_', 'can_cast', 'cast', 'cbrt', 'cdouble', 'ceil', 'cfloat', 'char', 'character', 'chararray', 'choose', 'clip', 'clongdouble', 'clongfloat', 'column_stack', 'common_type', 'compare_chararrays', 'compat', 'complex128', 'complex64', 'complex_', 'complexfloating', 'compress', 'concatenate', 'conj', 'conjugate', 'convolve', 'copy', 'copysign', 'copyto', 'core', 'corrcoef', 'correlate', 'cos', 'cosh', 'count_nonzero', 'cov', 'cross', 'csingle', 'ctypeslib', 'cumprod', 'cumproduct', 'cumsum', 'datetime64', 'datetime_as_string', 'datetime_data', 'deg2rad', 'degrees', 'delete', 'deprecate', 'deprecate_with_doc', 'diag', 'diag_indices', 'diag_indices_from', 'diagflat', 'diagonal', 'diff', 'digitize', 'disp', 'divide', 'divmod', 'dot', 'double', 'dsplit', 'dstack', 'dtype', 'e', 'ediff1d', 'einsum', 'einsum_path', 'emath', 'empty', 'empty_like', 'equal', 'errstate', 'euler_gamma', 'exp', 'exp2', 'expand_dims', 'expm1', 'extract', 'eye', 'fabs', 'fastCopyAndTranspose', 'fft', 'fill_diagonal', 'find_common_type', 'finfo', 'fix', 'flatiter', 'flatnonzero', 'flexible', 'flip', 'fliplr', 'flipud', 'float16', 'float32', 'float64', 'float_', 'float_power', 'floating', 'floor', 'floor_divide', 'fmax', 'fmin', 'fmod', 'format_float_positional', 'format_float_scientific', 'format_parser', 'frexp', 'frombuffer', 'fromfile', 'fromfunction', 'fromiter', 'frompyfunc', 'fromregex', 'fromstring', 'full', 'full_like', 'gcd', 'generic', 'genfromtxt', 'geomspace', 'get_array_wrap', 'get_include', 'get_printoptions', 'getbufsize', 'geterr', 'geterrcall', 'geterrobj', 'gradient', 'greater', 'greater_equal', 'half', 'hamming', 'hanning', 'heaviside', 'histogram', 'histogram2d', 'histogram_bin_edges', 'histogramdd', 'hsplit', 'hstack', 'hypot', 'i0', 'identity', 'iinfo', 'imag', 'in1d', 'index_exp', 'indices', 'inexact', 'inf', 'info', 'infty', 'inner', 'insert', 'int0', 'int16', 'int32', 'int64', 'int8', 'int_', 'intc', 'integer', 'interp', 'intersect1d', 'intp', 'invert', 'is_busday', 'isclose', 'iscomplex', 'iscomplexobj', 'isfinite', 'isfortran', 'isin', 'isinf', 'isnan', 'isnat', 'isneginf', 'isposinf', 'isreal', 'isrealobj', 'isscalar', 'issctype', 'issubclass_', 'issubdtype', 'issubsctype', 'iterable', 'ix_', 'kaiser', 'kron', 'lcm', 'ldexp', 'left_shift', 'less', 'less_equal', 'lexsort', 'lib', 'linalg', 'linspace', 'little_endian', 'load', 'loads', 'loadtxt', 'log', 'log10', 'log1p', 'log2', 'logaddexp', 'logaddexp2', 'logical_and', 'logical_not', 'logical_or', 'logical_xor', 'logspace', 'longcomplex', 'longdouble', 'longfloat', 'longlong', 'lookfor', 'ma', 'mafromtxt', 'mask_indices', 'mat', 'math', 'matmul', 'matrix', 'matrixlib', 'max', 'maximum', 'maximum_sctype', 'may_share_memory', 'mean', 'median', 'memmap', 'meshgrid', 'mgrid', 'min', 'min_scalar_type', 'minimum', 'mintypecode', 'mkl', 'mod', 'modf', 'moveaxis', 'msort', 'multiply', 'nan', 'nan_to_num', 'nanargmax', 'nanargmin', 'nancumprod', 'nancumsum', 'nanmax', 'nanmean', 'nanmedian', 'nanmin', 'nanpercentile', 'nanprod', 'nanquantile', 'nanstd', 'nansum', 'nanvar', 'nbytes', 'ndarray', 'ndenumerate', 'ndfromtxt', 'ndim', 'ndindex', 'nditer', 'negative', 'nested_iters', 'newaxis', 'nextafter', 'nonzero', 'not_equal', 'numarray', 'number', 'obj2sctype', 'object0', 'object_', 'ogrid', 'oldnumeric', 'ones', 'ones_like', 'os', 'outer', 'packbits', 'pad', 'partition', 'percentile', 'pi', 'piecewise', 'place', 'poly', 'poly1d', 'polyadd', 'polyder', 'polydiv', 'polyfit', 'polyint', 'polymul', 'polynomial', 'polysub', 'polyval', 'positive', 'power', 'printoptions', 'prod', 'product', 'promote_types', 'ptp', 'put', 'put_along_axis', 'putmask', 'quantile', 'r_', 'rad2deg', 'radians', 'random', 'ravel', 'ravel_multi_index', 'real', 'real_if_close', 'rec', 'recarray', 'recfromcsv', 'recfromtxt', 'reciprocal', 'record', 'remainder', 'repeat', 'require', 'reshape', 'resize', 'result_type', 'right_shift', 'rint', 'roll', 'rollaxis', 'roots', 'rot90', 'round', 'round_', 'row_stack', 's_', 'safe_eval', 'save', 'savetxt', 'savez', 'savez_compressed', 'sctype2char', 'sctypeDict', 'sctypes', 'searchsorted', 'select', 'set_numeric_ops', 'set_printoptions', 'set_string_function', 'setbufsize', 'setdiff1d', 'seterr', 'seterrcall', 'seterrobj', 'setxor1d', 'shape', 'shares_memory', 'short', 'show_config', 'sign', 'signbit', 'signedinteger', 'sin', 'sinc', 'single', 'singlecomplex', 'sinh', 'size', 'sometrue', 'sort', 'sort_complex', 'source', 'spacing', 'split', 'sqrt', 'square', 'squeeze', 'stack', 'std', 'str0', 'str_', 'string_', 'subtract', 'sum', 'swapaxes', 'sys', 'take', 'take_along_axis', 'tan', 'tanh', 'tensordot', 'test', 'testing', 'tile', 'timedelta64', 'trace', 'tracemalloc_domain', 'transpose', 'trapz', 'tri', 'tril', 'tril_indices', 'tril_indices_from', 'trim_zeros', 'triu', 'triu_indices', 'triu_indices_from', 'true_divide', 'trunc', 'typeDict', 'typecodes', 'typename', 'ubyte', 'ufunc', 'uint', 'uint0', 'uint16', 'uint32', 'uint64', 'uint8', 'uintc', 'uintp', 'ulonglong', 'unicode_', 'union1d', 'unique', 'unpackbits', 'unravel_index', 'unsignedinteger', 'unwrap', 'use_hugepage', 'ushort', 'vander', 'var', 'vdot', 'vectorize', 'version', 'void', 'void0', 'vsplit', 'vstack', 'warnings', 'where', 'who', 'zeros', 'zeros_like']\n"
     ]
    }
   ],
   "source": [
    "print(dir(np))\n"
   ]
  },
  {
   "cell_type": "code",
   "execution_count": 4,
   "id": "2c6bdaff",
   "metadata": {},
   "outputs": [
    {
     "name": "stdout",
     "output_type": "stream",
     "text": [
      "Type: <class 'list'>\n",
      "[1, 2, 3, 4, 5]\n",
      "[[0, 1, 2], [3, 4, 5], [6, 7, 8]]\n",
      "<class 'numpy.ndarray'>\n",
      "[1 2 3 4 5]\n"
     ]
    }
   ],
   "source": [
    "    # Creating python List\n",
    "    python_list = [1,2,3,4,5]\n",
    "\n",
    "    # Checking data types\n",
    "    print('Type:', type (python_list)) # <class 'list'>\n",
    "    #\n",
    "    print(python_list) # [1, 2, 3, 4, 5]\n",
    "\n",
    "    two_dimensional_list = [[0,1,2], [3,4,5], [6,7,8]]\n",
    "\n",
    "    print(two_dimensional_list)  # [[0, 1, 2], [3, 4, 5], [6, 7, 8]]\n",
    "\n",
    "    # Creating Numpy(Numerical Python) array from python list\n",
    "\n",
    "    numpy_array_from_list = np.array(python_list)\n",
    "    print(type (numpy_array_from_list))   # <class 'numpy.ndarray'>\n",
    "    print(numpy_array_from_list) # array([1, 2, 3, 4, 5])"
   ]
  },
  {
   "cell_type": "code",
   "execution_count": 5,
   "id": "d5b912c1",
   "metadata": {},
   "outputs": [
    {
     "name": "stdout",
     "output_type": "stream",
     "text": [
      "[1. 2. 3. 4. 5.]\n"
     ]
    }
   ],
   "source": [
    "numy_array_from_list2 = np.array(python_list, dtype=float)\n",
    "print(numy_array_from_list2)\n"
   ]
  },
  {
   "cell_type": "code",
   "execution_count": 6,
   "id": "2a540ba3",
   "metadata": {},
   "outputs": [
    {
     "name": "stdout",
     "output_type": "stream",
     "text": [
      "[False  True  True False False]\n"
     ]
    }
   ],
   "source": [
    "numpy_bool_array = np.array([0, 1, -1, 0, 0], dtype=bool)\n",
    "print(numpy_bool_array)"
   ]
  },
  {
   "cell_type": "code",
   "execution_count": 7,
   "id": "3aa9a674",
   "metadata": {},
   "outputs": [
    {
     "name": "stdout",
     "output_type": "stream",
     "text": [
      "<class 'numpy.ndarray'>\n",
      "[[0 1 2]\n",
      " [3 4 5]\n",
      " [6 7 8]]\n"
     ]
    }
   ],
   "source": [
    "numpy_two_dimensional_list = np.array(two_dimensional_list)\n",
    "print(type (numpy_two_dimensional_list))\n",
    "print(numpy_two_dimensional_list)\n"
   ]
  },
  {
   "cell_type": "code",
   "execution_count": 8,
   "id": "97be3415",
   "metadata": {},
   "outputs": [
    {
     "name": "stdout",
     "output_type": "stream",
     "text": [
      "<class 'list'>\n",
      "one dimensional array: [1, 2, 3, 4, 5]\n",
      "two dimensional array:  [[0, 1, 2], [3, 4, 5], [6, 7, 8]]\n"
     ]
    }
   ],
   "source": [
    "# We can always convert an array back to a python list using tolist().\n",
    "np_to_list = numpy_array_from_list.tolist()\n",
    "print(type (np_to_list))\n",
    "print('one dimensional array:', np_to_list)\n",
    "print('two dimensional array: ', numpy_two_dimensional_list.tolist())"
   ]
  },
  {
   "cell_type": "code",
   "execution_count": 9,
   "id": "176a5bc8",
   "metadata": {},
   "outputs": [
    {
     "name": "stdout",
     "output_type": "stream",
     "text": [
      "<class 'tuple'>\n",
      "python_tuple:  (1, 2, 3, 4, 5)\n",
      "<class 'numpy.ndarray'>\n",
      "numpy_array_from_tuple:  [1 2 3 4 5]\n"
     ]
    }
   ],
   "source": [
    "# Numpy array from tuple\n",
    "# Creating tuple in Python\n",
    "python_tuple = (1,2,3,4,5)\n",
    "print(type (python_tuple)) # <class 'tuple'>\n",
    "print('python_tuple: ', python_tuple) # python_tuple:  (1, 2, 3, 4, 5)\n",
    "\n",
    "numpy_array_from_tuple = np.array(python_tuple)\n",
    "print(type (numpy_array_from_tuple)) # <class 'numpy.ndarray'>\n",
    "print('numpy_array_from_tuple: ', numpy_array_from_tuple) # numpy_array_from_tuple:  [1 2 3 4 5]"
   ]
  },
  {
   "cell_type": "code",
   "execution_count": 10,
   "id": "3780d6f0",
   "metadata": {},
   "outputs": [
    {
     "name": "stdout",
     "output_type": "stream",
     "text": [
      "[('brand', 'Ford'), ('model', 'Mustang'), ('year', 1964)]\n",
      "[['brand' 'Ford']\n",
      " ['model' 'Mustang']\n",
      " ['year' '1964']]\n"
     ]
    }
   ],
   "source": [
    "thisdict =\t{\"brand\": \"Ford\",\"model\": \"Mustang\",\"year\": 1964}\n",
    "list_dict = list(thisdict.items())\n",
    "print(list_dict) #[('brand', 'Ford'), ('model', 'Mustang'), ('year', 1964)]\n",
    "np_list_dict = np.array(list_dict)\n",
    "print(np_list_dict)\n",
    "#[['brand' 'Ford']\n",
    "# ['model' 'Mustang']\n",
    "# ['year' '1964']]"
   ]
  },
  {
   "cell_type": "code",
   "execution_count": 11,
   "id": "91473e0a",
   "metadata": {},
   "outputs": [
    {
     "name": "stdout",
     "output_type": "stream",
     "text": [
      "[1 2 3 4 5]\n",
      "shape of nums:  (5,)\n",
      "[[0 1 2]\n",
      " [3 4 5]\n",
      " [6 7 8]]\n",
      "shape of numpy_two_dimensional_list:  (3, 3)\n",
      "(3, 4)\n"
     ]
    }
   ],
   "source": [
    "nums = np.array([1, 2, 3, 4, 5])\n",
    "print(nums)\n",
    "print('shape of nums: ', nums.shape)\n",
    "print(numpy_two_dimensional_list)\n",
    "print('shape of numpy_two_dimensional_list: ', numpy_two_dimensional_list.shape)\n",
    "three_by_four_array = np.array([[0, 1, 2, 3],\n",
    "       [4,5,6,7],\n",
    "       [8,9,10, 11]])\n",
    "print(three_by_four_array.shape)"
   ]
  },
  {
   "cell_type": "code",
   "execution_count": 12,
   "id": "937cbfe4",
   "metadata": {},
   "outputs": [
    {
     "name": "stdout",
     "output_type": "stream",
     "text": [
      "[-3 -2 -1  0  1  2  3]\n",
      "int32\n",
      "[-3. -2. -1.  0.  1.  2.  3.]\n",
      "float64\n"
     ]
    }
   ],
   "source": [
    "int_lists = [-3, -2, -1, 0, 1, 2,3]\n",
    "int_array = np.array(int_lists)\n",
    "float_array = np.array(int_lists, dtype=float)\n",
    "\n",
    "print(int_array)\n",
    "print(int_array.dtype)\n",
    "print(float_array)\n",
    "print(float_array.dtype)"
   ]
  },
  {
   "cell_type": "code",
   "execution_count": 13,
   "id": "42968841",
   "metadata": {},
   "outputs": [
    {
     "name": "stdout",
     "output_type": "stream",
     "text": [
      "The size: 5\n",
      "The size: 9\n"
     ]
    }
   ],
   "source": [
    "numpy_array_from_list = np.array([1, 2, 3, 4, 5])\n",
    "two_dimensional_list = np.array([[0, 1, 2],\n",
    "                              [3, 4, 5],\n",
    "                              [6, 7, 8]])\n",
    "\n",
    "print('The size:', numpy_array_from_list.size) # 5\n",
    "print('The size:', two_dimensional_list.size)  # 3\n"
   ]
  },
  {
   "cell_type": "code",
   "execution_count": 14,
   "id": "f7b3de2c",
   "metadata": {},
   "outputs": [
    {
     "name": "stdout",
     "output_type": "stream",
     "text": [
      "original array:  [1 2 3 4 5]\n",
      "modified array:  [11 12 13 14 15]\n"
     ]
    }
   ],
   "source": [
    "# Mathematical Operation\n",
    "# Addition\n",
    "numpy_array_from_list = np.array([1, 2, 3, 4, 5])\n",
    "print('original array: ', numpy_array_from_list)\n",
    "ten_plus_original = numpy_array_from_list  + 10\n",
    "print('modified array: ',ten_plus_original)\n"
   ]
  },
  {
   "cell_type": "code",
   "execution_count": 15,
   "id": "388adb45",
   "metadata": {},
   "outputs": [
    {
     "name": "stdout",
     "output_type": "stream",
     "text": [
      "original array:  [1 2 3 4 5]\n",
      "modified array:  [-9 -8 -7 -6 -5]\n"
     ]
    }
   ],
   "source": [
    "# Mathematical Operation\n",
    "# Subtraction\n",
    "print('original array: ', numpy_array_from_list)\n",
    "ten_less_original = numpy_array_from_list  - 10\n",
    "print('modified array: ',ten_less_original)"
   ]
  },
  {
   "cell_type": "code",
   "execution_count": 16,
   "id": "3e922ea1",
   "metadata": {},
   "outputs": [
    {
     "name": "stdout",
     "output_type": "stream",
     "text": [
      "original array:  [1 2 3 4 5]\n",
      "modified array:  [10 20 30 40 50]\n"
     ]
    }
   ],
   "source": [
    "# Mathematical Operation\n",
    "# Multiplication\n",
    "print('original array: ', numpy_array_from_list)\n",
    "ten_prod_original = numpy_array_from_list  * 10\n",
    "print('modified array: ',ten_prod_original)"
   ]
  },
  {
   "cell_type": "code",
   "execution_count": 17,
   "id": "aac266fa",
   "metadata": {},
   "outputs": [
    {
     "name": "stdout",
     "output_type": "stream",
     "text": [
      "original array:  [1 2 3 4 5]\n",
      "modified array:  [0.1 0.2 0.3 0.4 0.5]\n",
      "<class 'numpy.ndarray'>\n",
      "modified array:  [1 2 0 1 2]\n",
      "modified array:  [0 0 0 0 0]\n",
      "modified array:  [   1   32  243 1024 3125]\n"
     ]
    }
   ],
   "source": [
    "# Mathematical Operation\n",
    "# Division,Modulus,Floor Division,Exponent\n",
    "print('original array: ', numpy_array_from_list)\n",
    "ten_div_original = numpy_array_from_list  / 10\n",
    "print('modified array: ',ten_div_original)\n",
    "print(type(ten_div_original))\n",
    "ten_mod_original = numpy_array_from_list  % 3\n",
    "print('modified array: ',ten_mod_original)\n",
    "ten_floor_original = numpy_array_from_list  // 10\n",
    "print('modified array: ',ten_floor_original)\n",
    "ten_exp_original = numpy_array_from_list  ** 5\n",
    "print('modified array: ',ten_exp_original)"
   ]
  },
  {
   "cell_type": "code",
   "execution_count": 18,
   "id": "95a24795",
   "metadata": {},
   "outputs": [
    {
     "name": "stdout",
     "output_type": "stream",
     "text": [
      "int32\n",
      "float64\n",
      "bool\n"
     ]
    }
   ],
   "source": [
    "#Int,  Float numbers\n",
    "numpy_int_arr = np.array([1,2,3,4])\n",
    "numpy_float_arr = np.array([1.1, 2.0,3.2])\n",
    "numpy_bool_arr = np.array([-3, -2, 0, 1,2,3], dtype='bool')\n",
    "\n",
    "print(numpy_int_arr.dtype)\n",
    "print(numpy_float_arr.dtype)\n",
    "print(numpy_bool_arr.dtype)"
   ]
  },
  {
   "cell_type": "code",
   "execution_count": 19,
   "id": "ea498b88",
   "metadata": {},
   "outputs": [
    {
     "name": "stdout",
     "output_type": "stream",
     "text": [
      "[1. 2. 3. 4.]\n",
      "[1 2 3 4]\n",
      "[ True  True False  True  True  True]\n",
      "['1' '2' '3']\n"
     ]
    }
   ],
   "source": [
    "#converting data types\n",
    "#int to float\n",
    "\n",
    "numpy_int_arr = np.array([1,2,3,4], dtype = 'float')\n",
    "print(numpy_int_arr)\n",
    "\n",
    "#float to int\n",
    "numpy_int_arr = np.array([1., 2., 3., 4.], dtype = 'int')\n",
    "print(numpy_int_arr)\n",
    "\n",
    "#int to boolean\n",
    "numpy_bool_arr = np.array([-3, -2, 0, 1,2,3], dtype='bool')\n",
    "print(numpy_bool_arr)\n",
    "\n",
    "#int to string\n",
    "numpy_str_arr = numpy_float_arr.astype('int').astype('str')\n",
    "print(numpy_str_arr)"
   ]
  },
  {
   "cell_type": "code",
   "execution_count": 20,
   "id": "6c4c1807",
   "metadata": {},
   "outputs": [
    {
     "name": "stdout",
     "output_type": "stream",
     "text": [
      "<class 'numpy.ndarray'>\n",
      "[[1 2 3]\n",
      " [4 5 6]\n",
      " [7 8 9]]\n",
      "Shape:  (3, 3)\n",
      "Size: 9\n",
      "Data type: int32\n"
     ]
    }
   ],
   "source": [
    "# 2 Dimension Array\n",
    "two_dimension_array = np.array([(1,2,3),(4,5,6), (7,8,9)])\n",
    "print(type (two_dimension_array))\n",
    "print(two_dimension_array)\n",
    "print('Shape: ', two_dimension_array.shape)\n",
    "print('Size:', two_dimension_array.size)\n",
    "print('Data type:', two_dimension_array.dtype)"
   ]
  },
  {
   "cell_type": "code",
   "execution_count": 21,
   "id": "f841e1ca",
   "metadata": {},
   "outputs": [
    {
     "name": "stdout",
     "output_type": "stream",
     "text": [
      "First row: [1 2 3]\n",
      "Second row: [4 5 6]\n",
      "Third row:  [7 8 9]\n",
      "\n",
      "\n",
      "\n",
      "First column: [1 4 7]\n",
      "Second column: [2 5 8]\n",
      "Third column:  [3 6 9]\n",
      "\n",
      "\n",
      "2-D array: [[1 2 3]\n",
      " [4 5 6]\n",
      " [7 8 9]]\n",
      "\n",
      "\n",
      "Item in the first row, third column [1,3]: 3\n",
      "Item in the third row, second column [3,2]: 8\n"
     ]
    }
   ],
   "source": [
    "# 2 Dimension Array - Accessing Items\n",
    "two_dimension_array = np.array([[1,2,3],[4,5,6], [7,8,9]])\n",
    "first_row = two_dimension_array[0]\n",
    "second_row = two_dimension_array[1]\n",
    "third_row = two_dimension_array[2]\n",
    "print('First row:', first_row)\n",
    "print('Second row:', second_row)\n",
    "print('Third row: ', third_row)\n",
    "print('\\n' * 2)\n",
    "first_column= two_dimension_array[:,0]\n",
    "second_column = two_dimension_array[:,1]\n",
    "third_column = two_dimension_array[:,2]\n",
    "print('First column:', first_column)\n",
    "print('Second column:', second_column)\n",
    "print('Third column: ', third_column)\n",
    "print('\\n' * 1)\n",
    "print(\"2-D array:\", two_dimension_array)\n",
    "print('\\n' * 1)\n",
    "print(\"Item in the first row, third column [1,3]:\", two_dimension_array[0][2])\n",
    "print(\"Item in the third row, second column [3,2]:\", two_dimension_array[2][1])"
   ]
  },
  {
   "cell_type": "code",
   "execution_count": 22,
   "id": "be8bdd86",
   "metadata": {},
   "outputs": [
    {
     "name": "stdout",
     "output_type": "stream",
     "text": [
      "2-D array:\n",
      " [[1 2 3]\n",
      " [4 5 6]\n",
      " [7 8 9]]\n",
      "\n",
      "\n",
      "first two rows and columns\n",
      " [[1 2]\n",
      " [4 5]]\n",
      "second two rows and columns\n",
      " [[5 6]\n",
      " [8 9]]\n"
     ]
    }
   ],
   "source": [
    "#Slicing in numpy is similar to slicing in python list\n",
    "print(\"2-D array:\\n\", two_dimension_array)\n",
    "print('\\n' * 1)\n",
    "first_two_rows_and_columns = two_dimension_array[0:2, 0:2]\n",
    "print(\"first two rows and columns\\n\", first_two_rows_and_columns)\n",
    "second_two_rows_and_columns = two_dimension_array[1:, 1:]\n",
    "print(\"second two rows and columns\\n\", second_two_rows_and_columns)\n"
   ]
  },
  {
   "cell_type": "code",
   "execution_count": 23,
   "id": "f244cada",
   "metadata": {},
   "outputs": [
    {
     "name": "stdout",
     "output_type": "stream",
     "text": [
      "reversed rows\n",
      " [[7 8 9]\n",
      " [4 5 6]\n",
      " [1 2 3]]\n",
      "reversed columns\n",
      " [[3 2 1]\n",
      " [6 5 4]\n",
      " [9 8 7]]\n",
      "reversed rows and columns\n",
      " [[9 8 7]\n",
      " [6 5 4]\n",
      " [3 2 1]]\n"
     ]
    }
   ],
   "source": [
    "#reverse rows\n",
    "print(\"reversed rows\\n\", two_dimension_array[::-1])\n",
    "#reverse columns\n",
    "print(\"reversed columns\\n\", two_dimension_array[::,::-1])\n",
    "#reverse columns\n",
    "print(\"reversed rows and columns\\n\", two_dimension_array[::-1,::-1])"
   ]
  },
  {
   "cell_type": "code",
   "execution_count": 24,
   "id": "3d99acb8",
   "metadata": {},
   "outputs": [
    {
     "name": "stdout",
     "output_type": "stream",
     "text": [
      "[[1 2 3]\n",
      " [4 5 6]\n",
      " [7 8 9]]\n",
      "[[ 1  2  3]\n",
      " [ 4 55 44]\n",
      " [ 7  8  9]]\n"
     ]
    }
   ],
   "source": [
    "print(two_dimension_array)\n",
    "two_dimension_array[1,1] = 55\n",
    "two_dimension_array[1,2] =44\n",
    "print(two_dimension_array)"
   ]
  },
  {
   "cell_type": "code",
   "execution_count": 25,
   "id": "a29f3489",
   "metadata": {},
   "outputs": [
    {
     "name": "stdout",
     "output_type": "stream",
     "text": [
      "[[0 0 0]\n",
      " [0 0 0]\n",
      " [0 0 0]]\n"
     ]
    }
   ],
   "source": [
    "# Numpy Zeroes\n",
    "# numpy.zeros(shape, dtype=float, order='C')\n",
    "numpy_zeroes = np.zeros((3,3),dtype=int,order='C')\n",
    "print(numpy_zeroes)"
   ]
  },
  {
   "cell_type": "code",
   "execution_count": 26,
   "id": "5a074f44",
   "metadata": {},
   "outputs": [
    {
     "name": "stdout",
     "output_type": "stream",
     "text": [
      "[[1 1 1]\n",
      " [1 1 1]\n",
      " [1 1 1]]\n",
      "[[3 3 3]\n",
      " [3 3 3]\n",
      " [3 3 3]]\n"
     ]
    }
   ],
   "source": [
    "# Numpy Ones\n",
    "numpy_ones = np.ones((3,3),dtype=int,order='C')\n",
    "print(numpy_ones)\n",
    "# Numpy Threes\n",
    "numpy_threes = numpy_ones * 3\n",
    "print(numpy_threes)"
   ]
  },
  {
   "cell_type": "code",
   "execution_count": 27,
   "id": "3fdc23c4",
   "metadata": {},
   "outputs": [
    {
     "name": "stdout",
     "output_type": "stream",
     "text": [
      "[[1 2 3]\n",
      " [4 5 6]]\n",
      "[[1 2]\n",
      " [3 4]\n",
      " [5 6]]\n",
      "[[ 1  2  3  4  5  6]\n",
      " [ 7  8  9 10 11 12]]\n"
     ]
    }
   ],
   "source": [
    "# Reshape\n",
    "# numpy.reshape(), numpy.flatten()\n",
    "first_shape  = np.array([(1,2,3), (4,5,6)])\n",
    "print(first_shape)\n",
    "reshaped = first_shape.reshape(3,2)\n",
    "print(reshaped)\n",
    "reshaped2 = np.array([[1,2,3],[4,5,6], [7,8,9], [10,11,12]]).reshape(2,6)\n",
    "print(reshaped2)\n"
   ]
  },
  {
   "cell_type": "code",
   "execution_count": 28,
   "id": "58d85d4a",
   "metadata": {},
   "outputs": [
    {
     "name": "stdout",
     "output_type": "stream",
     "text": [
      "[1 2 3 4 5 6]\n"
     ]
    }
   ],
   "source": [
    "flattened = reshaped.flatten()\n",
    "print(flattened)"
   ]
  },
  {
   "cell_type": "code",
   "execution_count": 29,
   "id": "4942eccb",
   "metadata": {},
   "outputs": [
    {
     "name": "stdout",
     "output_type": "stream",
     "text": [
      "[5 7 9]\n",
      "Horizontal Append:\n",
      " [1 2 3 4 5 6]\n",
      "Vertical Append:\n",
      " [[1 2 3]\n",
      " [4 5 6]]\n",
      "Horizontal Append:\n",
      " [1 2 3 4 5 6]\n",
      "Vertical Append:\n",
      " [[1 2 3]\n",
      " [4 5 6]]\n"
     ]
    }
   ],
   "source": [
    "#Stacking\n",
    "np_list_one = np.array([1,2,3])\n",
    "np_list_two = np.array([4,5,6])\n",
    "print(np_list_one + np_list_two)\n",
    "\n",
    "print('Horizontal Append:\\n', np.hstack((np_list_one, np_list_two)))\n",
    "print('Vertical Append:\\n', np.vstack((np_list_one, np_list_two)))\n",
    "\n",
    "# Horizontal Stacking\n",
    "#alternative structure\n",
    "\n",
    "np_hor_stack  = np.hstack((np.array([1,2,3]), np.array([4,5,6])))\n",
    "print(\"Horizontal Append:\\n\",np_hor_stack)\n",
    "np_ver_stack  = np.vstack((np.array([1,2,3]), np.array([4,5,6])))\n",
    "print(\"Vertical Append:\\n\",np_ver_stack)\n",
    "\n",
    "\n"
   ]
  },
  {
   "cell_type": "code",
   "execution_count": 30,
   "id": "b38739cc",
   "metadata": {},
   "outputs": [
    {
     "name": "stdout",
     "output_type": "stream",
     "text": [
      "0.4514051284950502\n",
      "[0.53934178 0.36866817 0.3069101  0.46652694 0.31014972]\n",
      "6\n",
      "[9 6 6 3]\n",
      "[[6 6 5]\n",
      " [4 3 8]\n",
      " [8 5 6]]\n",
      "First Array (1 by 80):\n",
      " [ 73.10488284  94.0391368   99.6006952   49.08681028  83.23878527\n",
      "  57.71866079  98.35814066  71.93757822  76.32664155  84.07608805\n",
      " 102.3910449   50.18415888  90.44339505  88.71618007  73.37899617\n",
      " 104.51401054  89.00011085  69.18119886  93.61821219  85.60714982\n",
      "  77.74700723  94.00266369  91.2799385   82.84686446  90.69521933\n",
      "  70.65561522  74.69223912  82.03443335  64.19275247  57.05808603\n",
      "  78.65115899  74.43042454  95.81368703  87.23921537  83.94671322\n",
      " 113.72882489  57.68152574  86.67122409  93.00214174  54.69506846\n",
      "  76.04732435  67.48742054  94.09913633  50.54898265  72.33308692\n",
      "  93.50984624 110.70476332  75.71483694  83.41372191  95.95903911\n",
      " 109.62664092  58.54377432  86.32624207  87.94117037  86.33721198\n",
      "  65.81742399  81.77129674  49.04754116  89.34010698  82.02807989\n",
      "  84.5179212   61.85070481  80.69613035  78.0925969   58.84083703\n",
      "  71.4213914   69.79227921  88.73473319  76.16776211  80.68864539\n",
      "  77.19785974  62.32957494  82.74305616  61.34619331  69.59744695\n",
      "  68.59926014  85.42476708  75.88026044 121.47514859  71.33628807]\n",
      "Second Array (3 by 5): \n",
      " [[ 76.25941781  75.46930731 110.62094747  92.49989815  73.53920697]\n",
      " [ 69.23021802  84.37286329  52.95313496  93.88092189  73.31319943]\n",
      " [ 82.06860276  80.69036673  77.84802209  87.57561728  85.23848835]]\n"
     ]
    }
   ],
   "source": [
    "# Generate a random float  number\n",
    "random_float = np.random.random()\n",
    "print(random_float)\n",
    "\n",
    "# Generate a random float  array\n",
    "random_floats = np.random.random(5)\n",
    "print(random_floats)\n",
    "\n",
    "# Generating a random integers between 0 and 10\n",
    "random_int = np.random.randint(0, 11)\n",
    "print(random_int)\n",
    "\n",
    "# Generating a random integers between 2 and 11, and creating a one row array\n",
    "random_int_array_1x4 = np.random.randint(2,10, size=4)\n",
    "print(random_int_array_1x4)\n",
    "\n",
    "# Generating a random integers between 0 and 10\n",
    "random_int_array_3x3 = np.random.randint(2,10, size=(3,3))\n",
    "print(random_int_array_3x3)\n",
    "\n",
    "# Normal Distribution np.random.normal(mu, sigma, size)\n",
    "normal_array = np.random.normal(79, 15, 80)\n",
    "print(\"First Array (1 by 80):\\n\",normal_array)\n",
    "\n",
    "# Normal Distribution np.random.normal(mu, sigma, size)\n",
    "normal_array2 = np.random.normal(79, 15, size = (3,5))\n",
    "print(\"Second Array (3 by 5): \\n\",normal_array2)"
   ]
  },
  {
   "cell_type": "code",
   "execution_count": 31,
   "id": "1e335410",
   "metadata": {},
   "outputs": [
    {
     "data": {
      "text/plain": [
       "(array([3., 1., 0., 1., 0., 3., 2., 0., 2., 1., 1., 1., 1., 2., 3., 3., 3.,\n",
       "        2., 5., 2., 2., 2., 3., 4., 3., 5., 2., 4., 2., 1., 3., 3., 2., 0.,\n",
       "        2., 0., 1., 0., 1., 0., 0., 1., 1., 0., 1., 0., 0., 0., 0., 1.]),\n",
       " array([ 49.04754116,  50.49609331,  51.94464545,  53.3931976 ,\n",
       "         54.84174975,  56.2903019 ,  57.73885405,  59.1874062 ,\n",
       "         60.63595835,  62.0845105 ,  63.53306264,  64.98161479,\n",
       "         66.43016694,  67.87871909,  69.32727124,  70.77582339,\n",
       "         72.22437554,  73.67292768,  75.12147983,  76.57003198,\n",
       "         78.01858413,  79.46713628,  80.91568843,  82.36424058,\n",
       "         83.81279273,  85.26134487,  86.70989702,  88.15844917,\n",
       "         89.60700132,  91.05555347,  92.50410562,  93.95265777,\n",
       "         95.40120992,  96.84976206,  98.29831421,  99.74686636,\n",
       "        101.19541851, 102.64397066, 104.09252281, 105.54107496,\n",
       "        106.98962711, 108.43817925, 109.8867314 , 111.33528355,\n",
       "        112.7838357 , 114.23238785, 115.68094   , 117.12949215,\n",
       "        118.5780443 , 120.02659644, 121.47514859]),\n",
       " <BarContainer object of 50 artists>)"
      ]
     },
     "execution_count": 31,
     "metadata": {},
     "output_type": "execute_result"
    },
    {
     "data": {
      "image/png": "[encoded data removed]",
      "text/plain": [
       "<Figure size 432x288 with 1 Axes>"
      ]
     },
     "metadata": {},
     "output_type": "display_data"
    }
   ],
   "source": [
    "import matplotlib.pyplot as plt\n",
    "import seaborn as sns\n",
    "sns.set()\n",
    "plt.hist(normal_array, color=\"grey\", bins=50)"
   ]
  },
  {
   "cell_type": "code",
   "execution_count": 32,
   "id": "68062cbf",
   "metadata": {},
   "outputs": [
    {
     "name": "stdout",
     "output_type": "stream",
     "text": [
      "[[1. 1. 1. 1.]\n",
      " [1. 1. 1. 1.]\n",
      " [1. 1. 1. 1.]\n",
      " [1. 1. 1. 1.]]\n",
      "\n",
      "\n",
      "[[1. 1. 1. 1.]\n",
      " [1. 1. 1. 1.]\n",
      " [2. 2. 2. 2.]\n",
      " [1. 1. 1. 1.]]\n"
     ]
    }
   ],
   "source": [
    "#Matrix in numpy\n",
    "four_by_four_matrix = np.matrix(np.ones((4,4), dtype=float))\n",
    "print(four_by_four_matrix)\n",
    "print('\\n' * 1)\n",
    "#replace row 3 with 2 \n",
    "np.asarray(four_by_four_matrix)[2] = 2\n",
    "print(four_by_four_matrix)"
   ]
  },
  {
   "cell_type": "code",
   "execution_count": 33,
   "id": "d53e5274",
   "metadata": {},
   "outputs": [
    {
     "name": "stdout",
     "output_type": "stream",
     "text": [
      "range(0, 11, 2)\n",
      "0\n",
      "2\n",
      "4\n",
      "6\n",
      "8\n",
      "10\n"
     ]
    }
   ],
   "source": [
    "# numpy arrange is similar to using range to create list\n",
    "\n",
    "# creating list using range(starting, stop, step)\n",
    "lst = range(0, 11, 2)\n",
    "print(lst)\n",
    "for l in lst:\n",
    "    print(l)\n",
    "    "
   ]
  },
  {
   "cell_type": "code",
   "execution_count": 34,
   "id": "c89896df",
   "metadata": {},
   "outputs": [
    {
     "name": "stdout",
     "output_type": "stream",
     "text": [
      "[ 0  2  4  6  8 10]\n"
     ]
    }
   ],
   "source": [
    "# Similar to range arange numpy.arange(start, stop, step)\n",
    "whole_numbers = np.arange(0, 11, 2)\n",
    "print(whole_numbers)"
   ]
  },
  {
   "cell_type": "code",
   "execution_count": 35,
   "id": "f13fd032",
   "metadata": {},
   "outputs": [
    {
     "name": "stdout",
     "output_type": "stream",
     "text": [
      "[1.         1.44444444 1.88888889 2.33333333 2.77777778 3.22222222\n",
      " 3.66666667 4.11111111 4.55555556 5.        ]\n",
      "\n",
      "\n",
      "[1.  1.4 1.8 2.2 2.6 3.  3.4 3.8 4.2 4.6]\n"
     ]
    }
   ],
   "source": [
    "# numpy.linspace()\n",
    "# numpy.logspace() in Python with Example\n",
    "# For instance, it can be used to create 10 values from 1 to 5 evenly spaced.\n",
    "print(np.linspace(1.0, 5.0, num=10))\n",
    "print('\\n')\n",
    "# not to include the last value in the interval\n",
    "print(np.linspace(1.0, 5.0, num=10, endpoint=False))"
   ]
  },
  {
   "cell_type": "code",
   "execution_count": 36,
   "id": "e0051ed3",
   "metadata": {},
   "outputs": [
    {
     "name": "stdout",
     "output_type": "stream",
     "text": [
      "[2.         2.66666667 3.33333333 4.        ]\n",
      "[  100.           464.15888336  2154.43469003 10000.        ]\n",
      "464.15888692382913\n"
     ]
    }
   ],
   "source": [
    "# LogSpace\n",
    "# LogSpace returns even spaced numbers on a log scale. Logspace has the same parameters as np.linspace.\n",
    "\n",
    "# Syntax:\n",
    "# numpy.logspace(start, stop, num, endpoint)\n",
    "print(np.linspace(2.0, 4, num=4))\n",
    "print(np.logspace(2, 4.0, num=4))\n",
    "#Note that 10 exp 2.666 = 464\n",
    "print(10**2.66666667)"
   ]
  },
  {
   "cell_type": "code",
   "execution_count": 37,
   "id": "256fb11e",
   "metadata": {},
   "outputs": [
    {
     "name": "stdout",
     "output_type": "stream",
     "text": [
      "Array Size in Bytes: 4\n",
      "Array Size in Bytes: 16\n"
     ]
    }
   ],
   "source": [
    "# to check the size of an array item in bytes\n",
    "x1 = np.array([1,2,3])\n",
    "x2 = np.array([1,2,3], dtype=np.complex128)\n",
    "print(\"Array Size in Bytes:\",x1.itemsize)\n",
    "print(\"Array Size in Bytes:\",x2.itemsize)"
   ]
  },
  {
   "cell_type": "code",
   "execution_count": 38,
   "id": "6562febf",
   "metadata": {},
   "outputs": [
    {
     "name": "stdout",
     "output_type": "stream",
     "text": [
      "[4.99976245 5.59285079 4.99687046 4.86447889 5.05963615 5.19068713\n",
      " 4.97841914 4.42950373 4.60498825 5.33947336 4.1187943  5.62157084\n",
      " 5.20231653 5.24658391 4.42162975 4.37701278 4.59809139 6.58052554\n",
      " 4.80673735 4.888885   4.77556068 5.79071671 5.46315375 5.30304786\n",
      " 4.29915812 6.16590384 4.51490749 5.1338182  4.49046318 4.27981131\n",
      " 4.45891383 5.07848599 4.04666113 4.86409539 4.92737092 5.1391167\n",
      " 5.55212831 4.88556147 4.49776771 5.01707474 5.16938972 5.48560806\n",
      " 4.61152418 4.38996196 4.84247144 5.3729426  4.70001226 5.6591765\n",
      " 4.70625622 4.82603609 4.8627235  4.06051183 5.20411356 4.23955787\n",
      " 4.25061025 5.13223723 5.40169483 4.44538243 4.81357849 5.34485284\n",
      " 4.9618866  5.01707542 5.52304148 5.7738601  4.76511384 5.18936828\n",
      " 4.55995814 4.97515226 5.1746097  5.29939383 4.61073175 4.25213616\n",
      " 5.79461971 5.55434513 5.14424237 4.55767341 4.74224647 5.1602803\n",
      " 4.93314236 6.03416855 4.9764409  5.43064178 4.77625428 5.57096976\n",
      " 5.86151723 5.07149518 4.44610187 4.839457   4.68066875 4.28486812\n",
      " 5.10482241 5.50965901 5.22517503 5.87230575 5.38684056 4.96336273\n",
      " 4.82790239 4.32894174 4.57044377 4.36961065]\n",
      "[[ 1  2  3]\n",
      " [ 4 55 44]\n",
      " [ 7  8  9]]\n",
      "min:  1\n",
      "max:  55\n",
      "mean:  14.777777777777779\n",
      "sd:  18.913709183069525\n"
     ]
    }
   ],
   "source": [
    "np_normal_dis = np.random.normal(5, 0.5, 100)\n",
    "print(np_normal_dis)\n",
    "## min, max, mean, median, sd\n",
    "print(two_dimension_array)\n",
    "print('min: ', two_dimension_array.min())\n",
    "print('max: ', two_dimension_array.max())\n",
    "print('mean: ',two_dimension_array.mean())\n",
    "# print('median: ', two_dimension_array.median())\n",
    "print('sd: ', two_dimension_array.std())"
   ]
  },
  {
   "cell_type": "code",
   "execution_count": 39,
   "id": "6feab025",
   "metadata": {},
   "outputs": [
    {
     "name": "stdout",
     "output_type": "stream",
     "text": [
      "3D Array of Zeros:\n",
      " [[[0. 0.]\n",
      "  [0. 0.]\n",
      "  [0. 0.]\n",
      "  [0. 0.]\n",
      "  [0. 0.]]\n",
      "\n",
      " [[0. 0.]\n",
      "  [0. 0.]\n",
      "  [0. 0.]\n",
      "  [0. 0.]\n",
      "  [0. 0.]]\n",
      "\n",
      " [[0. 0.]\n",
      "  [0. 0.]\n",
      "  [0. 0.]\n",
      "  [0. 0.]\n",
      "  [0. 0.]]]\n",
      "3D Array of Zeros (Complex):\n",
      " [[[0.+0.j 0.+0.j]\n",
      "  [0.+0.j 0.+0.j]\n",
      "  [0.+0.j 0.+0.j]\n",
      "  [0.+0.j 0.+0.j]\n",
      "  [0.+0.j 0.+0.j]]\n",
      "\n",
      " [[0.+0.j 0.+0.j]\n",
      "  [0.+0.j 0.+0.j]\n",
      "  [0.+0.j 0.+0.j]\n",
      "  [0.+0.j 0.+0.j]\n",
      "  [0.+0.j 0.+0.j]]\n",
      "\n",
      " [[0.+0.j 0.+0.j]\n",
      "  [0.+0.j 0.+0.j]\n",
      "  [0.+0.j 0.+0.j]\n",
      "  [0.+0.j 0.+0.j]\n",
      "  [0.+0.j 0.+0.j]]]\n",
      "\n",
      "\n",
      "[[ 1  2  3]\n",
      " [ 4 55 44]\n",
      " [ 7  8  9]]\n",
      "=== Column ==\n",
      "Minimum Column Values:  [1 2 3]\n",
      "Maximum Column Values:  [ 7 55 44]\n",
      "=== Row ==\n",
      "Minimum Row Values:  [1 4 7]\n",
      "Maximum Row Values:  [ 3 55  9]\n"
     ]
    }
   ],
   "source": [
    "x = np.zeros((3, 5,2)) #3 depth 5 rows 2 columns\n",
    "print(\"3D Array of Zeros:\\n\",x)\n",
    "x = np.zeros((3, 5, 2), dtype=np.complex128)\n",
    "print(\"3D Array of Zeros (Complex):\\n\",x)\n",
    "print('\\n')\n",
    "print(two_dimension_array)\n",
    "print('=== Column ==') # 0 is for columns and 1 for rows\n",
    "print('Minimum Column Values: ', np.amin(two_dimension_array,axis=0))\n",
    "print('Maximum Column Values: ', np.amax(two_dimension_array,axis=0))\n",
    "print('=== Row ==')\n",
    "print('Minimum Row Values: ', np.amin(two_dimension_array,axis=1))\n",
    "print('Maximum Row Values: ', np.amax(two_dimension_array,axis=1))"
   ]
  },
  {
   "cell_type": "code",
   "execution_count": 40,
   "id": "07b7b3d0",
   "metadata": {},
   "outputs": [
    {
     "name": "stdout",
     "output_type": "stream",
     "text": [
      "Tile:    [1 2 3 1 2 3]\n",
      "Repeat:  [1 1 1 2 2 2 3 3 3]\n"
     ]
    }
   ],
   "source": [
    "a = [1,2,3]\n",
    "\n",
    "# Repeat whole of 'a' two times\n",
    "print('Tile:   ', np.tile(a, 2)) #horizontal stack\n",
    "\n",
    "# Repeat each element of 'a' two times\n",
    "print('Repeat: ', np.repeat(a, 3))\n"
   ]
  },
  {
   "cell_type": "code",
   "execution_count": 41,
   "id": "75ab6321",
   "metadata": {},
   "outputs": [
    {
     "name": "stdout",
     "output_type": "stream",
     "text": [
      "0.8231786985677826\n",
      "[[0.95899742 0.38639492 0.55924194]\n",
      " [0.1824695  0.70705451 0.09464063]]\n",
      "\n",
      "\n",
      "[[[0.01859148 0.45108236 0.27264773 0.81111264 0.99004818]\n",
      "  [0.71445025 0.1638588  0.9411888  0.50526122 0.21808856]\n",
      "  [0.83727761 0.07292333 0.7890668  0.82774118 0.96746063]]\n",
      "\n",
      " [[0.56251661 0.26217341 0.89800026 0.92780568 0.30323506]\n",
      "  [0.44106572 0.13129336 0.52926507 0.37683524 0.66958553]\n",
      "  [0.16403832 0.95087727 0.63530877 0.52628385 0.59820266]]]\n"
     ]
    }
   ],
   "source": [
    "# One random number between [0,1)\n",
    "one_random_num = np.random.random()\n",
    "one_random_in = np.random\n",
    "print(one_random_num)\n",
    "\n",
    "# Random numbers between [0,1) of shape 2,3\n",
    "r1 = np.random.random(size=[2,3])\n",
    "print(r1)\n",
    "print('\\n')\n",
    "r2 = np.random.random(size=[2,3,5]) #2 depth 3 rows 5 columns\n",
    "print(r2)"
   ]
  },
  {
   "cell_type": "code",
   "execution_count": 42,
   "id": "b333b708",
   "metadata": {},
   "outputs": [
    {
     "name": "stdout",
     "output_type": "stream",
     "text": [
      "['a' 'u' 'u' 'o' 'a' 'i' 'o' 'u' 'a' 'a']\n"
     ]
    }
   ],
   "source": [
    "print(np.random.choice(['a', 'e', 'i', 'o', 'u'], size=10)) # pick 1D array of 10"
   ]
  },
  {
   "cell_type": "code",
   "execution_count": 43,
   "id": "d2716788",
   "metadata": {},
   "outputs": [
    {
     "name": "stdout",
     "output_type": "stream",
     "text": [
      "[[0.58787302 0.2279075 ]\n",
      " [0.89891925 0.10640354]]\n",
      "[[ 1.39286669 -1.00986981]\n",
      " [ 0.40097719 -0.21635072]]\n",
      "[[2 0 1]\n",
      " [2 1 0]\n",
      " [4 1 2]\n",
      " [6 9 5]\n",
      " [4 5 3]]\n"
     ]
    }
   ],
   "source": [
    "## Random numbers between [0, 1] of shape 2, 2\n",
    "rand = np.random.rand(2,2) #uniform distribution\n",
    "print(rand)\n",
    "rand2 = np.random.randn(2,2) #normal distribution\n",
    "print(rand2)\n",
    "# Random integers between [0, 10) of shape 5row by 3 col\n",
    "rand_int = np.random.randint(0, 10, size=[5,3])\n",
    "print(rand_int)"
   ]
  },
  {
   "cell_type": "code",
   "execution_count": 44,
   "id": "27a241a9",
   "metadata": {},
   "outputs": [
    {
     "name": "stdout",
     "output_type": "stream",
     "text": [
      "[4.90198258 5.12810395 5.7260081  5.67085656 5.78149732 5.82613538\n",
      " 5.3071344  4.73222054 5.24434372 4.19342659 5.49893919 5.02591496\n",
      " 5.855972   3.79304427 5.43503956 4.57449596 4.45626926 4.85179302\n",
      " 5.16144426 5.6822149  4.95194144 5.73732904 5.25348554 6.05291094\n",
      " 5.15026978 5.71114412 5.05891403 4.63584812 5.53008872 3.80938126\n",
      " 4.1484371  5.1176837  4.74243345 5.17196616 5.0923403  4.84920319\n",
      " 5.43152452 5.33222253 5.8791408  4.17695961 5.57020263 4.907675\n",
      " 4.9360399  4.69201394 4.6407289  4.18916298 5.38670741 5.4380438\n",
      " 5.26188149 4.02050313 5.03412997 3.91365674 5.15390913 4.27736274\n",
      " 5.34333575 6.63736879 5.1219488  6.00646916 5.66678261 4.45091995\n",
      " 4.87342508 4.28532096 4.90587208 5.7565846  5.22036296 4.89007554\n",
      " 5.47726331 4.77128138 5.11889473 4.80481035 5.17470993 5.34787368\n",
      " 4.47709472 4.33280465 5.60206417 5.59459039 5.01497932 5.5010458\n",
      " 5.24528345 4.61089969 5.71273503 4.766105   4.69019104 5.04674947\n",
      " 4.47784844 5.46584334 5.14102641 4.93092924 4.7264884  4.7695271\n",
      " 4.91652426 4.86534317 4.54579419 5.29202517 5.18250834 5.05943012\n",
      " 5.03028858 4.91086487 4.83690926 5.18435703 5.16846038 4.80823858\n",
      " 4.93137866 5.04885587 4.25525067 5.18237886 5.74731493 5.37476278\n",
      " 4.56028388 5.31889547 4.63493142 4.68669149 5.99011215 5.56352311\n",
      " 4.22525547 4.85749676 4.98516543 5.16560699 5.27215029 4.63806071\n",
      " 5.15972442 5.26006503 3.95110171 5.45082717 5.21524639 4.64559656\n",
      " 5.07718239 5.36154575 4.80013168 5.16140523 5.21348174 4.84785722\n",
      " 5.5987784  4.3902477  4.723016   4.81544481 4.11487233 5.82521421\n",
      " 4.99826711 5.60229089 4.29985831 5.54757157 4.62036754 6.35980584\n",
      " 5.16451528 4.64384975 5.16117824 4.81683983 5.41321312 5.04906724\n",
      " 4.77221483 4.41920401 3.78293663 4.74206958 4.36460174 4.97157758\n",
      " 5.39988092 4.23965669 3.70551258 5.90337494 4.83703591 5.06653239\n",
      " 4.87561581 4.19339291 4.10478119 4.54263113 4.99227256 4.7661042\n",
      " 5.6528587  5.09283149 5.3749096  5.00333694 5.2748824  5.36789487\n",
      " 4.7465294  5.06356119 4.97034052 5.76986692 5.26866058 6.16450508\n",
      " 4.61414377 4.53061375 5.87834234 5.51054291 4.61195219 4.76215218\n",
      " 4.80808051 5.24560746 4.51110292 5.23210018 5.14334651 5.83774031\n",
      " 4.63867188 4.17171223 4.94542151 4.92041147 4.99009779 5.17361615\n",
      " 5.61307672 5.61480876 4.01662547 4.31962336 5.25246611 4.66619011\n",
      " 4.14914732 4.78494569 4.13319616 5.29557773 4.84124902 4.67138315\n",
      " 5.48629901 4.60514246 5.2388774  3.99525666 4.8388879  5.68499679\n",
      " 4.8559993  4.47515239 4.90884704 5.25873191 5.44032278 4.04206256\n",
      " 4.24980835 5.17371738 4.05067132 4.5635478  4.3530478  4.33163769\n",
      " 6.08813685 5.84493637 5.91562519 5.79764326 5.50585574 5.20163587\n",
      " 5.1154229  4.79121536 4.08088657 4.88226586 5.32643391 4.65825869\n",
      " 4.60529082 5.83929246 5.38096804 4.17494504 5.86573863 4.74417836\n",
      " 4.76475057 4.96096992 5.64533111 5.23934904 4.74840683 4.95566495\n",
      " 4.21341479 4.06300676 4.53370613 5.12740657 4.9768461  5.36831503\n",
      " 4.99475609 5.15250423 5.20618013 5.25583584 5.56485475 4.7236769\n",
      " 4.9005186  4.70221    5.93647785 4.49292639 4.72668751 4.8693672\n",
      " 5.43682458 6.0470826  4.8010191  4.18975472 4.88789603 4.56455142\n",
      " 5.34725491 5.47641584 5.10757732 4.37611291 4.26688516 4.95182689\n",
      " 3.96392197 4.28023708 5.00726889 5.69699693 4.62102157 5.38474779\n",
      " 4.37542837 5.34620544 5.1060357  5.41434479 4.49628316 5.25834101\n",
      " 4.88177569 5.36530354 5.1374458  5.1495127  5.42849148 6.11660108\n",
      " 4.95171707 5.33044746 4.47416452 5.03696759 5.1758323  4.24084169\n",
      " 4.88011376 6.11441443 4.47982269 5.22296693 3.76212396 5.63470138\n",
      " 4.40514376 4.76917967 5.14949454 4.49059071 5.16920145 5.67346102\n",
      " 4.95027243 4.90249161 4.63242927 5.30094609 5.14636691 5.68517387\n",
      " 5.693895   5.09144942 6.01032695 5.08959218 4.8598386  4.72179149\n",
      " 5.18535008 4.6829234  4.83645472 5.29893965 4.88983683 4.98771401\n",
      " 4.87189593 4.5341195  4.61646481 4.76823359 5.19707821 5.48857864\n",
      " 5.42970112 4.75826613 4.20685457 4.54652659 5.60635255 4.86295822\n",
      " 4.91329333 4.60241477 5.34452779 5.02250514 5.37806283 5.0369269\n",
      " 4.81558046 4.95157544 5.35693353 4.26073584 5.14551699 4.13763143\n",
      " 5.18693878 5.2480942  6.22135642 4.47598526 5.96444709 4.54292138\n",
      " 4.74792363 5.85104801 5.05823837 5.40691054 5.21687201 4.16190042\n",
      " 4.83905525 4.68530969 4.38307274 5.2515098  4.77439076 4.93389219\n",
      " 4.88908148 5.64097262 4.2752585  4.57970578 5.30942029 5.38183567\n",
      " 5.75724253 4.85997309 4.75802938 5.11768639 4.8145526  5.39231253\n",
      " 5.4055254  4.64683242 4.7612014  5.5943168  5.62172547 4.67362469\n",
      " 4.6048304  4.32271882 5.49169514 5.31787868 5.55659967 4.19254635\n",
      " 5.14515905 5.23754467 4.71477699 3.91766277 5.17350828 5.17826943\n",
      " 4.66164636 5.59777882 5.33243317 6.14118092 3.92128531 4.47065798\n",
      " 4.64199097 5.2112437  5.05093823 5.92363706 5.47646415 4.44460685\n",
      " 4.25473961 5.26017875 4.68182122 4.36329651 5.05797498 5.22944019\n",
      " 5.39750012 4.33730288 5.12364805 5.63508246 4.27393925 4.61412192\n",
      " 5.61931907 4.91140079 5.09214355 4.74848934 5.04822732 4.70777063\n",
      " 4.7961354  5.42745071 4.66533898 5.78654254 4.1574718  3.89951904\n",
      " 4.96481325 4.7467092  6.14475467 5.33262923 4.68620985 4.60703058\n",
      " 5.30877973 4.30584764 5.46814845 5.26274483 4.79079924 4.73814547\n",
      " 4.88367764 5.47379603 4.88695101 5.62457313 5.09295563 5.30309412\n",
      " 4.57342718 4.7706683  4.70429975 5.55686056 4.43540482 5.55014926\n",
      " 4.54984938 5.54368488 4.14205558 4.35992271 5.87212371 6.23963862\n",
      " 5.49438714 4.6368442  5.3815072  5.40420608 4.89515848 4.49037389\n",
      " 5.62614008 4.78476969 5.11047392 5.29190666 5.65107335 4.73853526\n",
      " 4.46546168 4.96654041 5.08461207 5.0695066  5.05782556 5.99139838\n",
      " 5.39235046 5.58987829 4.84872602 4.54699203 4.69197306 4.78992249\n",
      " 4.86523495 6.12786484 4.30835653 4.61835148 5.55995381 4.64467282\n",
      " 5.6399387  4.74563826 5.67035212 5.41055141 5.43195001 4.81949316\n",
      " 5.56566698 4.85278063 5.22212009 4.94594793 5.16375561 4.8423089\n",
      " 5.80550218 4.45846072 6.01589023 4.96541888 5.11351995 4.82188315\n",
      " 5.40127968 4.78854139 4.78645822 5.12876782 5.29216459 5.78821586\n",
      " 3.62116673 4.64883995 5.76444654 6.04901825 5.20072185 5.44189552\n",
      " 4.60153206 4.48044992 5.07477923 4.62752088 4.74242104 4.87513024\n",
      " 5.04039985 5.20289893 5.60665109 5.98114213 5.33407117 4.97337058\n",
      " 5.24741354 5.40589381 5.22875137 4.94023765 4.97307129 5.12174333\n",
      " 5.10151974 5.23376167 5.63161444 4.29309754 5.03682519 5.60827516\n",
      " 4.0271404  4.46311532 4.77806032 6.04690395 5.48178385 4.69191276\n",
      " 4.11473853 4.6025541  5.64015298 4.95494174 4.29829958 4.95054662\n",
      " 4.99232978 5.49061979 4.87750127 4.55416451 5.50210689 4.47285474\n",
      " 5.1296231  4.22842617 4.66611122 4.76152492 4.90584516 5.07296047\n",
      " 5.2695308  4.68840507 5.34427425 5.19596082 5.46110447 4.74505756\n",
      " 4.93480608 5.13365407 4.82270018 5.21766224 5.08284589 5.3407409\n",
      " 5.57265183 4.33593331 4.34141538 4.75589407 5.91686643 4.58416692\n",
      " 5.28935878 5.09108336 4.11638802 5.2884262  4.88790222 4.74879621\n",
      " 5.52666625 5.60620842 5.48684443 4.6114489  5.13480514 5.1280748\n",
      " 5.26175627 5.00361201 4.83490907 5.42511215 5.38587541 5.4592899\n",
      " 5.11080725 6.18823625 5.4876694  4.71226324 5.08705366 4.68217115\n",
      " 4.93799787 3.93458962 3.82408414 5.63388546 4.68486867 4.72079744\n",
      " 4.24073766 4.40887046 4.68632758 5.2570624  4.80705208 4.4715315\n",
      " 4.49480201 5.05660813 5.53740174 4.69060458 4.53000864 4.88359738\n",
      " 5.53055805 5.1420896  5.11759945 4.70868863 4.50494554 4.83150669\n",
      " 4.67231736 5.53308353 5.27995213 4.89779576 5.59878086 4.81299551\n",
      " 3.8754018  4.86542883 5.20455134 4.73075275 5.11057497 4.50069228\n",
      " 4.99889523 5.22601841 5.06727231 5.74961569 5.36034953 5.23154593\n",
      " 5.04917043 4.38511829 4.32052085 5.04280043 4.43257576 4.84287585\n",
      " 4.78513692 4.68453088 4.96436644 5.03370932 5.32355499 5.17832338\n",
      " 5.08670474 4.96314    5.01178922 6.03895033 5.25955522 3.89017922\n",
      " 5.31960939 5.02375704 5.06968431 4.11831072 4.26474395 4.99488042\n",
      " 4.97433081 5.42407784 5.27034238 5.44297202 5.47562824 4.37442009\n",
      " 5.10273116 4.77823532 4.74156516 5.37813494 4.69056887 5.56967502\n",
      " 4.6389606  5.84600594 4.96701448 5.76964112 5.26825462 5.50019782\n",
      " 4.66642895 4.49894488 4.22291287 4.9691935  4.65440415 4.65243765\n",
      " 4.83330106 4.93666539 4.39491906 5.54627578 4.92925555 5.03749145\n",
      " 5.12079142 5.83392156 4.54503569 5.02391326 4.22364056 4.33231669\n",
      " 5.0071391  5.1189261  5.39249674 5.69586316 5.44429056 5.84525311\n",
      " 4.99652267 4.88011567 5.65677151 5.29025758 4.60913534 5.21766613\n",
      " 4.37490624 5.24209732 3.86782215 3.98899367 5.352095   4.81614808\n",
      " 4.32929232 5.16233709 4.04871694 5.44398681 5.11622134 5.29839681\n",
      " 4.095328   5.76124226 5.0181824  5.73677647 4.8881575  4.67032371\n",
      " 5.10942069 5.26270847 4.92754283 4.89744937 4.98612321 4.5625059\n",
      " 5.91931917 4.80525027 4.81815345 5.47755358 4.97999733 4.62563258\n",
      " 5.27821913 5.00044394 5.39573051 5.0506942  4.5425381  4.68427326\n",
      " 4.87154248 5.04384488 5.25260757 5.26444443 5.93886955 5.04255137\n",
      " 5.56369327 4.77974832 4.72210303 4.45404897 4.84496514 5.30230053\n",
      " 5.23636714 4.63848179 4.44152802 5.65187927 4.95768387 6.15391455\n",
      " 5.98723085 5.34759202 5.32225131 4.95361631 4.26179145 5.57996463\n",
      " 5.41060874 5.17906476 5.08679799 4.19776707 4.13852615 4.2449958\n",
      " 5.26423597 4.15154242 4.55009096 4.81948276 5.06491783 4.79909418\n",
      " 5.65068485 5.88537873 4.76415951 4.94321307 4.68774164 4.55090951\n",
      " 5.44023076 5.15381718 4.80686646 5.41838299 5.24229297 4.89850926\n",
      " 4.89828604 5.1510519  5.13040303 5.38268601 4.75595195 5.46063945\n",
      " 4.88540849 5.64530499 4.39929002 6.11922643 5.41369628 4.58182704\n",
      " 4.47164757 4.69754778 5.84031443 5.43482695 3.7114112  5.33612186\n",
      " 4.98762876 6.20422804 5.37059722 4.54753542 5.3793604  4.58955475\n",
      " 4.95055782 5.8660358  4.95027888 5.36152343 4.75656108 4.84856158\n",
      " 5.1184647  6.10015385 5.1060596  5.05016508 4.89484121 4.81109266\n",
      " 4.41311871 5.18519819 5.58560639 5.39987401 5.2158417  5.58558652\n",
      " 5.24312789 4.96951421 5.17872815 5.84521103 4.84103626 5.39691527\n",
      " 4.96373181 4.75718904 4.76009347 4.54947396 6.23879447 4.04033064\n",
      " 4.89765249 4.96039953 4.98262613 5.54925763 4.57443125 4.83956708\n",
      " 4.89548369 5.01522094 5.73662407 5.23894406 5.96562533 5.66849451\n",
      " 4.71861595 4.53785516 5.18791807 4.78350887 4.90279703 5.41202165\n",
      " 5.52517633 5.21768293 5.33792729 4.24167265 4.97337481 4.69153395\n",
      " 4.42904965 5.51337397 5.78221193 4.8070208  5.49415308 4.5708103\n",
      " 5.17599492 5.81368052 6.33343177 5.44783284 5.22028282 5.14959617\n",
      " 4.9974594  4.48964478 5.42671513 5.56408858 4.77673557 4.95062251\n",
      " 5.19744772 4.90368241 5.84901365 3.99951895 5.07115131 4.4891795\n",
      " 5.08514139 5.67104674 5.46244353 4.62559378 4.80096725 4.71508808\n",
      " 5.0059881  5.91670139 6.00163884 4.63251277 4.73370727 4.68641117\n",
      " 5.71670853 5.96953692 3.85589145 5.02686307 5.50522265 4.83452215\n",
      " 5.11008151 5.63500576 5.12111402 5.94139805 5.22345779 4.71411181\n",
      " 5.34864006 5.53131519 4.13211079 4.73262973 5.19043511 5.46842565\n",
      " 5.22187305 5.06322024 5.50986613 4.83868678 4.94688459 5.30893161\n",
      " 5.47725631 5.38840018 5.60659588 5.49671457 5.50185457 5.13169122\n",
      " 4.25837363 5.73126173 4.07145103 5.38175726 4.85010507 6.28008042\n",
      " 5.28415344 5.40369879 5.7754143  5.40173296 4.40063477 5.85855406\n",
      " 4.66522302 5.01710103 4.90059575 5.15925762 5.33542672 4.87372551\n",
      " 6.1336508  3.86600318 3.81186236 5.7552784  5.83606102 4.79486603\n",
      " 6.10260307 4.38927383 3.9393845  4.9302534  5.75615983 5.57054138\n",
      " 4.74133246 5.67507868 4.51046597 4.07863677]\n",
      "min:  3.6211667346004095\n",
      "max:  6.637368786577614\n",
      "mean:  5.028552220815513\n",
      "median:  5.0263890115084155\n"
     ]
    },
    {
     "name": "stdout",
     "output_type": "stream",
     "text": [
      "mode:  ModeResult(mode=array([3.62116673]), count=array([1]))\n",
      "sd:  0.508521157254862\n"
     ]
    }
   ],
   "source": [
    "from scipy import stats\n",
    "np_normal_dis = np.random.normal(5, 0.5, 1000) # mean, standard deviation, number of samples\n",
    "print(np_normal_dis)\n",
    "## min, max, mean, median, sd\n",
    "print('min: ', np.min(np_normal_dis))\n",
    "print('max: ', np.max(np_normal_dis))\n",
    "print('mean: ', np.mean(np_normal_dis))\n",
    "print('median: ', np.median(np_normal_dis))\n",
    "print('mode: ', stats.mode(np_normal_dis))\n",
    "print('sd: ', np.std(np_normal_dis))"
   ]
  },
  {
   "cell_type": "code",
   "execution_count": 45,
   "id": "00fcd8dc",
   "metadata": {},
   "outputs": [
    {
     "data": {
      "image/png": "[encoded data removed]",
      "text/plain": [
       "<Figure size 432x288 with 1 Axes>"
      ]
     },
     "metadata": {},
     "output_type": "display_data"
    }
   ],
   "source": [
    "plt.hist(np_normal_dis, color=\"grey\", bins=21)\n",
    "plt.show()"
   ]
  },
  {
   "cell_type": "code",
   "execution_count": 46,
   "id": "ce15e78a",
   "metadata": {},
   "outputs": [
    {
     "name": "stdout",
     "output_type": "stream",
     "text": [
      "23\n"
     ]
    }
   ],
   "source": [
    "# numpy.dot(): Dot Product in Python using Numpy\n",
    "# Dot Product\n",
    "# Numpy is powerful library for matrices computation. For instance, you can compute the dot product with np.dot\n",
    "\n",
    "# Syntax\n",
    "\n",
    "# numpy.dot(x, y, out=None)\n",
    "## Linear algebra\n",
    "### Dot product: product of two arrays\n",
    "f = np.array([1,2,3])\n",
    "g = np.array([4,5,3])\n",
    "### 1*4+2*5 + 3*6\n",
    "print(np.dot(f, g))  # 23"
   ]
  },
  {
   "cell_type": "code",
   "execution_count": 47,
   "id": "e6c544b4",
   "metadata": {},
   "outputs": [
    {
     "name": "stdout",
     "output_type": "stream",
     "text": [
      "[[19 22]\n",
      " [43 50]]\n"
     ]
    }
   ],
   "source": [
    "### Matmul: matruc product of two arrays\n",
    "h = [[1,2],[3,4]]\n",
    "i = [[5,6],[7,8]]\n",
    "# |1 2|   |5 6|\n",
    "# |3 4|   |7 8|\n",
    "#\n",
    "### 1*5+2*7 = 19\n",
    "### 1*6+2*8 = 22\n",
    "### 3*5+4*7 = 43\n",
    "### 3*6+4*8 = 50\n",
    "\n",
    "print(np.matmul(h, i))"
   ]
  },
  {
   "cell_type": "code",
   "execution_count": 48,
   "id": "cd722d7b",
   "metadata": {},
   "outputs": [
    {
     "data": {
      "text/plain": [
       "-1.999999999999999"
      ]
     },
     "execution_count": 48,
     "metadata": {},
     "output_type": "execute_result"
    }
   ],
   "source": [
    "a = np.array([[1, 2], [3, 4]])\n",
    "np.linalg.det(i)"
   ]
  },
  {
   "cell_type": "code",
   "execution_count": 49,
   "id": "2e6025b6",
   "metadata": {
    "scrolled": true
   },
   "outputs": [
    {
     "name": "stdout",
     "output_type": "stream",
     "text": [
      "Every Two Rows from second row:\n",
      " [[0. 0. 0. 0. 0. 0. 0. 0.]\n",
      " [1. 1. 1. 1. 1. 1. 1. 1.]\n",
      " [0. 0. 0. 0. 0. 0. 0. 0.]\n",
      " [1. 1. 1. 1. 1. 1. 1. 1.]\n",
      " [0. 0. 0. 0. 0. 0. 0. 0.]\n",
      " [1. 1. 1. 1. 1. 1. 1. 1.]\n",
      " [0. 0. 0. 0. 0. 0. 0. 0.]\n",
      " [1. 1. 1. 1. 1. 1. 1. 1.]]\n",
      "Every Two Columns from first column:\n",
      " [[1. 0. 1. 0. 1. 0. 1. 0.]\n",
      " [1. 0. 1. 0. 1. 0. 1. 0.]\n",
      " [1. 0. 1. 0. 1. 0. 1. 0.]\n",
      " [1. 0. 1. 0. 1. 0. 1. 0.]\n",
      " [1. 0. 1. 0. 1. 0. 1. 0.]\n",
      " [1. 0. 1. 0. 1. 0. 1. 0.]\n",
      " [1. 0. 1. 0. 1. 0. 1. 0.]\n",
      " [1. 0. 1. 0. 1. 0. 1. 0.]]\n",
      "Every Intersection of Two Columns and Two Rows from first column/second row:\n",
      " [[0. 0. 0. 0. 0. 0. 0. 0.]\n",
      " [1. 0. 1. 0. 1. 0. 1. 0.]\n",
      " [0. 0. 0. 0. 0. 0. 0. 0.]\n",
      " [1. 0. 1. 0. 1. 0. 1. 0.]\n",
      " [0. 0. 0. 0. 0. 0. 0. 0.]\n",
      " [1. 0. 1. 0. 1. 0. 1. 0.]\n",
      " [0. 0. 0. 0. 0. 0. 0. 0.]\n",
      " [1. 0. 1. 0. 1. 0. 1. 0.]]\n"
     ]
    }
   ],
   "source": [
    "Z = np.zeros((8,8))\n",
    "Z[1::2] = 1\n",
    "print(\"Every Two Rows from second row:\\n\",Z)\n",
    "Z = np.zeros((8,8))\n",
    "Z[:,::2] = 1\n",
    "print(\"Every Two Columns from first column:\\n\",Z)\n",
    "Z = np.zeros((8,8))\n",
    "Z[1::2,::2] = 1\n",
    "print(\"Every Intersection of Two Columns and Two Rows from first column/second row:\\n\",Z)"
   ]
  },
  {
   "cell_type": "code",
   "execution_count": 50,
   "id": "d1979a3a",
   "metadata": {},
   "outputs": [
    {
     "name": "stdout",
     "output_type": "stream",
     "text": [
      "[2, 3, 4, 5, 6, 7, 8, 9, 10, 11, 12]\n",
      "OR\n",
      "[ 2  3  4  5  6  7  8  9 10 11 12]\n"
     ]
    }
   ],
   "source": [
    "new_list = [ x + 2 for x in range(0, 11)]\n",
    "print(new_list)\n",
    "print(\"OR\")\n",
    "np_arr = np.array(range(0, 11))\n",
    "print(np_arr + 2)"
   ]
  },
  {
   "cell_type": "code",
   "execution_count": 51,
   "id": "b0e1871d",
   "metadata": {},
   "outputs": [
    {
     "name": "stdout",
     "output_type": "stream",
     "text": [
      "Temperature [1 2 3 4 5]\n",
      "Pressure [ 7  9 11 13 15]\n"
     ]
    }
   ],
   "source": [
    "#We use linear equation for quantities which have linear relationship. \n",
    "temp = np.array([1,2,3,4,5])\n",
    "pressure = temp * 2 + 5\n",
    "print(\"Temperature\",temp)\n",
    "print(\"Pressure\",pressure)"
   ]
  },
  {
   "cell_type": "code",
   "execution_count": 52,
   "id": "53813f7d",
   "metadata": {},
   "outputs": [
    {
     "data": {
      "image/png": "[encoded data removed]",
      "text/plain": [
       "<Figure size 432x288 with 1 Axes>"
      ]
     },
     "metadata": {},
     "output_type": "display_data"
    }
   ],
   "source": [
    "plt.plot(temp,pressure)\n",
    "plt.xlabel('Temperature in oC')\n",
    "plt.ylabel('Pressure in atm')\n",
    "plt.title('Temperature vs Pressure')\n",
    "plt.xticks(np.arange(0, 6, step=1))\n",
    "plt.show()"
   ]
  },
  {
   "cell_type": "code",
   "execution_count": 53,
   "id": "f86279e4",
   "metadata": {},
   "outputs": [
    {
     "data": {
      "image/png": "[encoded data removed]",
      "text/plain": [
       "<Figure size 360x360 with 1 Axes>"
      ]
     },
     "metadata": {},
     "output_type": "display_data"
    }
   ],
   "source": [
    "mu = 28\n",
    "sigma = 15\n",
    "samples = 100000\n",
    "\n",
    "x = np.random.normal(mu, sigma, samples)\n",
    "ax = sns.displot(x);\n",
    "ax.set(xlabel=\"x\", ylabel='y')\n",
    "plt.show()"
   ]
  },
  {
   "cell_type": "code",
   "execution_count": null,
   "id": "80699a05",
   "metadata": {},
   "outputs": [],
   "source": []
  }
 ],
 "metadata": {
  "kernelspec": {
   "display_name": "Python 3 (ipykernel)",
   "language": "python",
   "name": "python3"
  },
  "language_info": {
   "codemirror_mode": {
    "name": "ipython",
    "version": 3
   },
   "file_extension": ".py",
   "mimetype": "text/x-python",
   "name": "python",
   "nbconvert_exporter": "python",
   "pygments_lexer": "ipython3",
   "version": "3.9.7"
  }
 },
 "nbformat": 4,
 "nbformat_minor": 5
}
